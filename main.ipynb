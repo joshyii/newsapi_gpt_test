{
 "cells": [
  {
   "cell_type": "code",
   "execution_count": 1,
   "metadata": {},
   "outputs": [],
   "source": [
    "from newsdataapi import NewsDataApiClient\n",
    "api = NewsDataApiClient(apikey='pub_37794c4bafa5c6fee6ea8b27a53141a470ca0')"
   ]
  },
  {
   "cell_type": "code",
   "execution_count": 2,
   "metadata": {},
   "outputs": [
    {
     "name": "stdout",
     "output_type": "stream",
     "text": [
      "{'status': 'success', 'totalResults': 8389, 'results': [{'article_id': '9a84845ca89458355c6c6586c8d331af', 'title': 'Thayer Scale Appoints New Vice President of Sales and Marketing', 'link': 'https://www.prnewswire.com/news-releases/thayer-scale-appoints-new-vice-president-of-sales-and-marketing-302066275.html', 'keywords': ['food & beverages', 'mining & metals', 'machinery', 'general manufacturing', 'fod', 'mng', 'mfg', 'mac'], 'creator': None, 'video_url': None, 'description': \"Andy Forrester to Lead the Company's Global Selling and Service Efforts PEMBROKE, Mass., Feb. 20, 2024 /PRNewswire/ -- Thayer Scale, a leading global manufacturer of equipment for the continuous weighing and feeding of bulk materials, announced that Andy Forrester joined the company as...\", 'content': 'ONLY AVAILABLE IN PAID PLANS', 'pubDate': '2024-02-20 15:54:00', 'image_url': 'https://mma.prnewswire.com/media/2342212/Thayer_Scale_Andy_Forrester.jpg?p=original', 'source_id': 'cision', 'source_url': 'https://www.prnewswire.com', 'source_icon': 'https://ik.imagekit.io/plantoraImg/domain_icons/cision.jpg', 'source_priority': 1625, 'country': ['singapore'], 'category': ['business'], 'language': 'english', 'ai_tag': 'ONLY AVAILABLE IN PROFESSIONAL AND CORPORATE PLANS', 'sentiment': 'ONLY AVAILABLE IN PROFESSIONAL AND CORPORATE PLANS', 'sentiment_stats': 'ONLY AVAILABLE IN PROFESSIONAL AND CORPORATE PLANS', 'ai_region': 'ONLY AVAILABLE IN CORPORATE PLANS'}, {'article_id': 'd3dc11721a89f7e402e981ef3a8cd6ee', 'title': 'Homeowners in Lisburn and Castlereagh face a 3.98% rates hike', 'link': 'https://www.northernirelandworld.com/news/politics/council/homeowners-in-lisburn-and-castlereagh-face-a-398-rates-hike-4526426', 'keywords': ['council', 'politics', 'news'], 'creator': ['Julie-Ann Spence'], 'video_url': None, 'description': 'Lisburn and Castlereagh City council is raising its rates for local homeowners by almost 4%, however, it is understood this mean the city still has one of the lowest rates in Northern Ireland.', 'content': 'ONLY AVAILABLE IN PAID PLANS', 'pubDate': '2024-02-20 15:53:55', 'image_url': 'https://www.northernirelandworld.com/webimg/b25lY21zOjkzYzlhYTA2LTc1NjMtNDg1MS1hOTE3LTQwNDRlYjJjN2MyNzo0NzkxYjZiYS0yMzMwLTRmZjYtODAxYi0yMWY4MmI5OWRmM2U=.jpg?width=1200&auto=webp', 'source_id': 'northernirelandworld', 'source_url': 'https://www.northernirelandworld.com/news', 'source_icon': 'https://ik.imagekit.io/plantoraImg/domain_icons/northernirelandworld.png', 'source_priority': 1964541, 'country': ['united kingdom'], 'category': ['environment', 'business', 'health', 'politics'], 'language': 'english', 'ai_tag': 'ONLY AVAILABLE IN PROFESSIONAL AND CORPORATE PLANS', 'sentiment': 'ONLY AVAILABLE IN PROFESSIONAL AND CORPORATE PLANS', 'sentiment_stats': 'ONLY AVAILABLE IN PROFESSIONAL AND CORPORATE PLANS', 'ai_region': 'ONLY AVAILABLE IN CORPORATE PLANS'}, {'article_id': '7ec6dc5701bcff2fce1356c9c8f25d3b', 'title': \"The Body Shop founder Anita Roddick's tragic life - shock diagnosis, chronic illness and sudden death\", 'link': 'https://www.mirror.co.uk/3am/celebrity-news/body-shop-founder-anita-roddicks-32121520', 'keywords': ['money'], 'creator': ['mirrornews@mirror.co.uk (Nia Dalton, Julia Banim)'], 'video_url': None, 'description': \"As The Body Shop shuts half of its UK stores - including seven today - the Mirror looks at the extraordinary life of the iconic beauty brand's founder, Dame Anita Roddick\", 'content': 'ONLY AVAILABLE IN PAID PLANS', 'pubDate': '2024-02-20 15:53:41', 'image_url': 'https://i2-prod.mirror.co.uk/incoming/article32122969.ece/ALTERNATES/s615/1_FWRO.jpg', 'source_id': 'mirroruk', 'source_url': 'https://www.mirror.co.uk', 'source_icon': None, 'source_priority': 910, 'country': ['united kingdom'], 'category': ['business'], 'language': 'english', 'ai_tag': 'ONLY AVAILABLE IN PROFESSIONAL AND CORPORATE PLANS', 'sentiment': 'ONLY AVAILABLE IN PROFESSIONAL AND CORPORATE PLANS', 'sentiment_stats': 'ONLY AVAILABLE IN PROFESSIONAL AND CORPORATE PLANS', 'ai_region': 'ONLY AVAILABLE IN CORPORATE PLANS'}, {'article_id': 'e714b8175daa6dd33b5b4efad00f52ec', 'title': 'Global Waterproofing Admixtures Market Projected to Grow at 4.63% CAGR, Crossing 509.33 USD Million by 2031 - Kryton (CA), Xypex Chemical & Material (CA), GCP Applied Technologies (US), Hycrete (US)', 'link': 'https://www.openpr.com/news/3392064/global-waterproofing-admixtures-market-projected-to-grow', 'keywords': ['business, economy, finances, banking & insurance'], 'creator': ['MarketsGlob.com'], 'video_url': None, 'description': 'The global Waterproofing Admixtures Market size reached 354.61 USD Million in 2023. Looking forward, MarketsGlob expects the market to reach 509.33 USD Million by 2031, exhibiting a growth rate (CAGR) of 4.63% during 2024-2031. The qualitative study titled \"Waterproofing Admixtures Market\"', 'content': 'ONLY AVAILABLE IN PAID PLANS', 'pubDate': '2024-02-20 15:52:49', 'image_url': 'https://cdn.openpr.com/L/2/L220433749_k.jpg', 'source_id': 'openpr', 'source_url': 'https://www.openpr.com', 'source_icon': None, 'source_priority': 161245, 'country': ['germany'], 'category': ['business'], 'language': 'english', 'ai_tag': 'ONLY AVAILABLE IN PROFESSIONAL AND CORPORATE PLANS', 'sentiment': 'ONLY AVAILABLE IN PROFESSIONAL AND CORPORATE PLANS', 'sentiment_stats': 'ONLY AVAILABLE IN PROFESSIONAL AND CORPORATE PLANS', 'ai_region': 'ONLY AVAILABLE IN CORPORATE PLANS'}, {'article_id': '9646b88e339ada77485a8c56303b0d19', 'title': 'Global Satellite Propulsion Market Business Outlook, Competitive Analysis, Market Growth, Trends, Market Size, Share, Forecast To 2031', 'link': 'https://www.openpr.com/news/3392063/global-satellite-propulsion-market-business-outlook', 'keywords': ['business, economy, finances, banking & insurance'], 'creator': ['The Insight Partners'], 'video_url': None, 'description': 'A Satellite is a semi-independent, computer-controlled, artificial device that is launched into the earth\\'s orbit. Popular types of satellites include commercial, military, and surveillance, serving various purposes including science, weather, navigation, and communication. The Insight Partner\\'s, \"Global Satellite Propulsion Market', 'content': 'ONLY AVAILABLE IN PAID PLANS', 'pubDate': '2024-02-20 15:52:22', 'image_url': 'https://cdn.openpr.com/L/2/L220877225_k.jpg', 'source_id': 'openpr', 'source_url': 'https://www.openpr.com', 'source_icon': None, 'source_priority': 161245, 'country': ['germany'], 'category': ['business'], 'language': 'english', 'ai_tag': 'ONLY AVAILABLE IN PROFESSIONAL AND CORPORATE PLANS', 'sentiment': 'ONLY AVAILABLE IN PROFESSIONAL AND CORPORATE PLANS', 'sentiment_stats': 'ONLY AVAILABLE IN PROFESSIONAL AND CORPORATE PLANS', 'ai_region': 'ONLY AVAILABLE IN CORPORATE PLANS'}, {'article_id': 'd26c512ece9f85961a4a1d8f5aa63deb', 'title': 'Edinburgh property: Scotland’s top 10 postcodes for million pound houses named as Edinburgh dominates list', 'link': 'https://www.edinburghnews.scotsman.com/lifestyle/homes-and-gardens/edinburgh-property-scotlands-top-10-postcodes-for-million-pound-houses-named-as-edinburgh-dominates-list-4526420', 'keywords': ['homes and gardens', 'lifestyle'], 'creator': ['Gary Flockhart'], 'video_url': None, 'description': 'New research by Rettie has revealed the number of £1m-plus house sales in Scotland hit a new annual high last year – and Edinburgh has continued to dominate the market.', 'content': 'ONLY AVAILABLE IN PAID PLANS', 'pubDate': '2024-02-20 15:52:12', 'image_url': 'https://www.edinburghnews.scotsman.com/webimg/b25lY21zOjQ4Njc4NDUwLTA0MzMtNDc3Ny05ZWQ2LTkyZTZmMzIwZWZhOTo0NGM0OGQ2OC0xY2MyLTQ5MmYtODJmOC01MzUzMGVhMDhiMTI=.jpg?width=1200&auto=webp', 'source_id': 'edinburghnews', 'source_url': 'https://www.edinburghnews.scotsman.com', 'source_icon': None, 'source_priority': 10459, 'country': ['united kingdom'], 'category': ['business'], 'language': 'english', 'ai_tag': 'ONLY AVAILABLE IN PROFESSIONAL AND CORPORATE PLANS', 'sentiment': 'ONLY AVAILABLE IN PROFESSIONAL AND CORPORATE PLANS', 'sentiment_stats': 'ONLY AVAILABLE IN PROFESSIONAL AND CORPORATE PLANS', 'ai_region': 'ONLY AVAILABLE IN CORPORATE PLANS'}, {'article_id': '46b75411a8211a62b11d985ef5ea12f9', 'title': 'Leading Economic Index no longer signals U.S. recession -Conference Board', 'link': 'https://www.investing.com/news/economic-indicators/leading-economic-index-no-longer-signals-us-recession-conference-board-3308715', 'keywords': None, 'creator': ['Reuters'], 'video_url': None, 'description': None, 'content': 'ONLY AVAILABLE IN PAID PLANS', 'pubDate': '2024-02-20 15:51:38', 'image_url': 'https://i-invdn-com.investing.com/trkd-images/LYNXNPEK1J0JY_L.jpg', 'source_id': 'investing_us', 'source_url': 'https://www.investing.com', 'source_icon': None, 'source_priority': 1205, 'country': ['united states of america'], 'category': ['business'], 'language': 'english', 'ai_tag': 'ONLY AVAILABLE IN PROFESSIONAL AND CORPORATE PLANS', 'sentiment': 'ONLY AVAILABLE IN PROFESSIONAL AND CORPORATE PLANS', 'sentiment_stats': 'ONLY AVAILABLE IN PROFESSIONAL AND CORPORATE PLANS', 'ai_region': 'ONLY AVAILABLE IN CORPORATE PLANS'}, {'article_id': '569016863076c46558cb7e06f4efeb2a', 'title': \"IPO Revival In 2024: Plaid, Chime, And Kim Kardashian's Skims Among Potential Market Movers\", 'link': 'https://www.benzinga.com/markets/equities/24/02/37215731/ipo-revival-in-2024-plaid-chime-and-kim-kardashians-skims-among-potential-market-movers', 'keywords': ['arm', 'as', 'birk', 'consumer tech', 'equities', 'expert ideas', 'fintech', 'initial public offering', 'ipo', 'kim kardashian', 'kspi', 'macro economic events', 'news', 'stories that matter', 'tbbb', 'specialty etfs', 'sports', 'ipos', 'economics', 'federal reserve', 'markets', 'tech', 'etfs', 'general', 'arm', 'ipo', 'as', 'birk', 'kspi', 'tbbb', 'news', 'equities', 'fintech', 'macro economic events', 'specialty etfs', 'sports', 'ipos', 'economics', 'federal reserve', 'markets', 'tech', 'etfs', 'general', 'benzinga'], 'creator': ['Neil Dennis'], 'video_url': None, 'description': 'After a subdued couple of years that followed a stellar performance in 2021, the market for initial public offerings (IPOs) is expected to recover some ground in 2024. The market for new listings was, during 2022 and 2023, hit by rising inflation and interest rates, which raised funding costs and made markets more turbulent, in turn making it more difficult to price IPOs. Under these conditions, many companies looking to spin off businesses and private equity groups seeking to launch their holdings publicly decided to either pull or postpone planned IPOs. The results were a massive downturn in IPO activity. Global IPOs in 2023 fell to a total 1,298 flotations, down from 1,415 in 2022, and only just over half of the 2,400 seen in 2021. In the U.S., 154 IPOs raised $25.8 billion in 2023. It’s not difficult to understand why so many were pulled. Out of the 154 U.S. IPOs in 2023, nearly two thirds currently have share prices below the debut price. Half of those launched during the stock market rally of the fourth quarter have failed to regain their launch price. Among the larger and better known companies, there were some major successes. ARM Holdings (NASDAQ:ARM), the U.K.-based chip designer, raised $4.9 billion and its shares are 150% above launch price, while Birkenstock Holding (NYSE:BIRK), the shoemaker ...Full story available on Benzinga.com', 'content': 'ONLY AVAILABLE IN PAID PLANS', 'pubDate': '2024-02-20 15:51:30', 'image_url': 'https://cdn.benzinga.com/files/images/story/2024/Hologram-Of-Ipo-Glowing-Icon--Sunset-Pan.jpeg?optimize=medium&dpr=1&auto=webp&height=800&width=1456&fit=crop', 'source_id': 'benzinga', 'source_url': 'https://www.benzinga.com', 'source_icon': 'https://ik.imagekit.io/plantoraImg/domain_icons/benzinga.png', 'source_priority': 3903, 'country': ['united states of america'], 'category': ['business'], 'language': 'english', 'ai_tag': 'ONLY AVAILABLE IN PROFESSIONAL AND CORPORATE PLANS', 'sentiment': 'ONLY AVAILABLE IN PROFESSIONAL AND CORPORATE PLANS', 'sentiment_stats': 'ONLY AVAILABLE IN PROFESSIONAL AND CORPORATE PLANS', 'ai_region': 'ONLY AVAILABLE IN CORPORATE PLANS'}, {'article_id': '9c604f26a6063e61038673e9776a419a', 'title': 'Guardian limits app articles, introduces paywall as losses grow', 'link': 'https://www.newsr.in/n/Business/1zqu9elcq1/Guardian-limits-app-articles-introduces-paywall-as-losses.htm', 'keywords': ['business'], 'creator': None, 'video_url': None, 'description': \"Guardian readers will now only be able to access 20 free articles on the media company's app as it looks to boost falling revenues. Reported by City A.M. 11 minutes ago.\", 'content': 'ONLY AVAILABLE IN PAID PLANS', 'pubDate': '2024-02-20 15:51:17', 'image_url': None, 'source_id': 'newsr', 'source_url': 'https://www.newsr.in', 'source_icon': 'https://ik.imagekit.io/plantoraImg/domain_icons/newsr.png', 'source_priority': 29095901, 'country': ['india'], 'category': ['business'], 'language': 'english', 'ai_tag': 'ONLY AVAILABLE IN PROFESSIONAL AND CORPORATE PLANS', 'sentiment': 'ONLY AVAILABLE IN PROFESSIONAL AND CORPORATE PLANS', 'sentiment_stats': 'ONLY AVAILABLE IN PROFESSIONAL AND CORPORATE PLANS', 'ai_region': 'ONLY AVAILABLE IN CORPORATE PLANS'}, {'article_id': 'c0a197634ba6c70de16d0747fadf31d7', 'title': 'Barclays embarks on biggest shake-up since financial crisis after difficult decade', 'link': 'https://www.newsr.in/n/Business/1zqu9elcpv/Barclays-embarks-on-biggest-shake-up-since-financial.htm', 'keywords': ['business'], 'creator': None, 'video_url': None, 'description': 'Barclays has sought to draw a line under a difficult decade with a marathon investor presentation laying out a three-year plan to restructure the bank. Reported by City A.M. 11 minutes ago.', 'content': 'ONLY AVAILABLE IN PAID PLANS', 'pubDate': '2024-02-20 15:51:17', 'image_url': None, 'source_id': 'newsr', 'source_url': 'https://www.newsr.in', 'source_icon': 'https://ik.imagekit.io/plantoraImg/domain_icons/newsr.png', 'source_priority': 29095901, 'country': ['india'], 'category': ['business'], 'language': 'english', 'ai_tag': 'ONLY AVAILABLE IN PROFESSIONAL AND CORPORATE PLANS', 'sentiment': 'ONLY AVAILABLE IN PROFESSIONAL AND CORPORATE PLANS', 'sentiment_stats': 'ONLY AVAILABLE IN PROFESSIONAL AND CORPORATE PLANS', 'ai_region': 'ONLY AVAILABLE IN CORPORATE PLANS'}], 'nextPage': '1708444277862389969'}\n"
     ]
    }
   ],
   "source": [
    "response = api.news_api(language='en', category='business')\n",
    "print(response)"
   ]
  },
  {
   "cell_type": "code",
   "execution_count": 3,
   "metadata": {},
   "outputs": [
    {
     "name": "stdout",
     "output_type": "stream",
     "text": [
      "['https://www.prnewswire.com/news-releases/thayer-scale-appoints-new-vice-president-of-sales-and-marketing-302066275.html', 'https://www.northernirelandworld.com/news/politics/council/homeowners-in-lisburn-and-castlereagh-face-a-398-rates-hike-4526426', 'https://www.mirror.co.uk/3am/celebrity-news/body-shop-founder-anita-roddicks-32121520', 'https://www.openpr.com/news/3392064/global-waterproofing-admixtures-market-projected-to-grow', 'https://www.openpr.com/news/3392063/global-satellite-propulsion-market-business-outlook', 'https://www.edinburghnews.scotsman.com/lifestyle/homes-and-gardens/edinburgh-property-scotlands-top-10-postcodes-for-million-pound-houses-named-as-edinburgh-dominates-list-4526420', 'https://www.investing.com/news/economic-indicators/leading-economic-index-no-longer-signals-us-recession-conference-board-3308715', 'https://www.benzinga.com/markets/equities/24/02/37215731/ipo-revival-in-2024-plaid-chime-and-kim-kardashians-skims-among-potential-market-movers', 'https://www.newsr.in/n/Business/1zqu9elcq1/Guardian-limits-app-articles-introduces-paywall-as-losses.htm', 'https://www.newsr.in/n/Business/1zqu9elcpv/Barclays-embarks-on-biggest-shake-up-since-financial.htm']\n"
     ]
    }
   ],
   "source": [
    "article_links = []\n",
    "for article in response['results']:\n",
    "    article_links.append(article['link'])\n",
    "print(article_links)"
   ]
  },
  {
   "cell_type": "code",
   "execution_count": 4,
   "metadata": {},
   "outputs": [
    {
     "name": "stdout",
     "output_type": "stream",
     "text": [
      "<h1 class=\"ssrcss-15xko80-StyledHeading e10rt3ze0\" id=\"main-heading\" tabindex=\"-1\">BP reports second highest profit in a decade</h1>\n",
      "Energy giant BP has reported its second highest annual profit in a decade, despite it being half the level it announced in the previous year.\n",
      "Profits were $13.8bn (£11bn) in 2023, down from the record $27.7bn in 2022 when oil prices soared in the aftermath of Russia's invasion of Ukraine.\n",
      "The price of oil fell back last year, which has cut profits at all energy firms.\n",
      "However, BP said it was stepping up its plans to return cash to shareholders. \n",
      "The results are the first released by BP since the company announced Murray Auchincloss as its new chief executive.\n",
      "Previous boss Bernard Looney resigned last September after admitting he had not been \"fully transparent\" about his past personal relationships at the firm. BP's board said Mr Looney had committed \"serious misconduct\", resulting in him forfeiting up to £32.4m in pay and benefits.\n",
      "The fall in BP's annual profits echo the results from rival Shell, who last week said profits fell to $28.2bn last year, down from $39.9bn in 2022. \n",
      "However, excluding 2022's results, BP's annual profit figure was the biggest since 2012.\n",
      "In the final three months of 2023, BP reported profits of $3bn, which was higher than expected, and its shares were up more than 5% by Tuesday afternoon.\n",
      "The company also said it planned to increase returns to investors during the first three months of the year through $1.75bn of share buybacks. It has also committed to $3.5bn of buybacks over the first half of 2024.\n",
      "BP said it expected \"underlying production from oil production and operations to be higher\" this year, but output from gas and low carbon energy to be lower.\n",
      "The company came under fire last year from environmental groups after it scaled back plans to reduce the amount of oil and gas it produces by 2030.\n",
      "Reacting to the latest results, campaign group Global Witness criticised BP's policies. \n",
      "\"Shareholders should want to protect their long-term positions. That means demanding a rapid clean energy transition for companies like BP. These reckless shareholder payouts do the opposite,\" said Jonathan Noronha-Gant from the group.\n",
      "However, last week, the Financial Times reported that one investor group - BlueBell Capital Partners - had called on BP to scrap its targets for lower oil and gas output altogether, calling them \"irrational\".\n",
      "But speaking to analysts on Tuesday, Mr Auchincloss said: \"We just disagree with them if I'm honest.\n",
      "\"We are very happy with the direction of travel, and the shareholders at the top tier are happy as well.\"\n",
      "Susannah Streeter from Hargreaves Lansdown said the priorities of BP's new boss had been made clear.\n",
      "\"Although on appointment he pledged that BP's strategy to transition from an international oil company to an integrated energy company was unchanged, the big share buy-back announcement shows the immediate focus is on boosting the share price and returning value to shareholders.\"\n",
      "Nick Butler, a former head of strategy at BP, told the BBC's Today programme there had been talk that the company could be a takeover target.\n",
      "\"The real defence against takeovers is performance and if that's going to be the new chief executive's focus I think we can be a bit more optimistic about the company,\" he said.\n",
      "Energy prices started to climb when Covid lockdowns ended, but jumped in March 2022 when Russia invaded Ukraine. There were fears about disruption to energy supplies and many countries imposed sanctions preventing the import of all Russian oil and oil products. \n",
      "The price of benchmark Brent crude oil reached nearly $128 a barrel soon after the invasion, but now stands just below $80.\n",
      "The 2022 surge in prices led all energy companies to make bumper profits. In response, the UK government introduced a windfall tax, called the Energy Profits Levy (EPL), on the \"extraordinary\" earnings of firms on their UK operations to help fund a scheme to subsidise gas and electricity bills.\n",
      "This subsidy scheme ended in June last year, but while household energy bills have fallen since 2022 they still remain far higher than they had been before the war in Ukraine began.\n",
      "BP said that its North Sea business paid $1.5bn (£1.2bn) UK tax in 2023, of which $720m was due to the EPL. The year before, it paid $2.2bn in tax for its North Sea operations, including $700m from the EPL.\n",
      "There had been fears that oil prices might surge as a result of attacks on shipping in the Red Sea by Houthi rebels, but so far they have been little changed.\n",
      "The attacks led many companies, including BP, to divert ships away from the route through the Suez Canal. It is the quickest sea route between Asia and Europe and is particularly important in the transportation of oil and liquefied natural gas.\n",
      "© 2024 BBC. The BBC is not responsible for the content of external sites. Read about our approach to external linking.\n"
     ]
    }
   ],
   "source": [
    "import requests\n",
    "from bs4 import BeautifulSoup\n",
    "\n",
    "url = 'https://www.bbc.co.uk/news/business-68206788?at_medium=RSS&at_campaign=KARANGA'\n",
    "response = requests.get(url)\n",
    "\n",
    "if response.status_code == 200:\n",
    "    soup = BeautifulSoup(response.content, 'html.parser')\n",
    "    \n",
    "    heading = soup.find('h1', id='main-heading')\n",
    "    content = soup.find_all('p', class_='ssrcss-1q0x1qg-Paragraph e1jhz7w10')\n",
    "    print(heading)\n",
    "    for paragraph in content:\n",
    "        print(paragraph.text)\n",
    "else:\n",
    "    print('Failed to retrieve the webpage. Status code:', response.status_code)\n"
   ]
  },
  {
   "cell_type": "code",
   "execution_count": 1,
   "metadata": {},
   "outputs": [
    {
     "name": "stdout",
     "output_type": "stream",
     "text": [
      "The Body Shop founder Anita Roddick's tragic life - shock diagnosis, chronic illness and sudden death\n",
      "As The Body Shop shuts half of its UK stores - including seven today - the Mirror looks at the extraordinary life of the iconic beauty brand's founder, Dame Anita Roddick\n",
      "\n",
      "The Body Shop founder Dame Anita Roddick was famed as a national treasure before her sad death at the age of 64.\n",
      "\n",
      "A pioneering businesswoman and human rights campaigner, Anita changed the face of beauty retail forever, and for years, many couldn't have imagined a shopping trip without visiting the instantly recognisable skincare and cosmetics chain.\n",
      "\n",
      "But now, the iconic green shop is facing uncertain times, with administrators called in last week following a dismal festive period. As part of the company's new restructure plan, bosses will close half of its UK stores, including seven shutting today.\n",
      "\n",
      "For many loyal customers, this downfall marks the end of an era, while being a nostalgic reminder of the days when The Body Shop felt like the beginning of a consumer revolution, and a new, kinder way of shopping. For Anita, the company was her life's work - but with the enormous success came many difficult times.\n",
      "\n",
      "Born in Littlehampton, West Sussex, in 1942, Anita was raised by Italian parents who ran a café. Before venturing into the world of ethical cosmetics, Anita worked as an English teacher and at one point ran a B&B. A keen traveller, Anita drew inspiration from her time spent in Europe, Africa, and the Far East, taking note of the natural cosmetics used by the women she met.\n",
      "\n",
      "After returning to England, Anita met and fell in love with fellow bohemian Gordon Roddick, and the pair tied the knot in 1970. Anita opened the very first branch of The Body Shop in 1976, to support herself and her daughters, Sam and Justine, while her husband Gordon was away fulfilling a personal goal of his own - riding from Buenos Aires, Argentina to New York on horseback.\n",
      "\n",
      "The modest Brighton-based store used handwritten labels and kept costs low by sticking to minimal packaging. Customers were intrigued by its environmental focus and affordable quality products, and Anita was able to open a second shop just six months later. \n",
      "\n",
      "Reflecting on these humble early days years later in 1991, by which point she was regarded as a national treasure, Anita said: \"The original Body Shop was a series of brilliant accidents. It had a great smell, it had a funky name. It was positioned between two funeral parlours - that always caused controversy. It was incredibly sensuous. \n",
      "\n",
      "\"It was 1976, the year of the heatwave, so there was a lot of flesh around. We knew about storytelling then, so all the products had stories. We recycled everything, not because we were environmentally friendly, but because we didn't have enough bottles. \n",
      "\n",
      "\"It was a good idea. What was unique about it, with no intent at all, no marketing nous, was that it translated across cultures, across geographical barriers, and social structures. It wasn't a sophisticated plan, it just happened like that.\"\n",
      "\n",
      "The initially tiny brand, which was started with just £4,000, began to expand at an astonishing speed, and by 1982, an average of two stores a month were cropping up - proving that entrepreneurs could be both caring and wildly successful. By 1984, The Body Shop had built a strong presence on the high street and listed its shares on the London Stock Exchange. The distinctively earthy business was by this point valued at a sector-conquering £80million.\n",
      "\n",
      "By the turn of the millennium, The Body Shop boasted 2000 outlets across 55 countries - making a name for itself on the global stage. There was some backlash after Anita decided to sell her business to L'Oréal in March 2006, with many feeling this didn't fit with the store's radical early ethos. \n",
      "\n",
      "Anita defended her controversial decision, however, explaining: \"The campaigning, the being maverick, changing the rules of business - it's all there, protected. And it's not going to change. That's part of our DNA. But having L'Oréal come in and say we like you, we like your ethics, we want to be part of you, we want you to teach us things, it's a gift. I'm ecstatic about it. So I don't see it as selling out.\"\n",
      "\n",
      "In February 2007, Anita announced she had contracted Hepatitis C from a hospital blood transfusion after the birth of daughter Sam in 1971. She'd lived with the illness for 30 years without realising, only learning of her condition after undergoing routine blood checks.\n",
      "\n",
      "By this point, Anita had cirrhosis of the liver - one of the more severe long-term effects of the illness which results in scarring and impacted liver function. In a post penned on her website, Anita shared: \"I do have cirrhosis. I could still have a good few years - maybe even decades - of life left but it's hard to say. I could be facing liver cancer tomorrow.\" \n",
      "\n",
      "She added: \"Having Hep C means that I live with a sharp sense of my own mortality, which in many ways makes life more vivid and immediate. It makes me even more determined to just get on with things.\" Channeling her ordeal into activism, Anita became a patron of the Hepatitis C Trust, and called upon the Government to take the disease more seriously as a 'public health challenge'.\n",
      "\n",
      "On September 10, 2007, Anita died at the age of just 64 after suffering a brain haemorrhage - a rare complication of Hep C. A statement shared by her family read: \"Gordon, Justine and Sam Roddick are very sad to announce that after suffering a major brain haemorrhage, Anita Roddick died at 6.30pm this evening at the age of 64.\n",
      "\n",
      "\"Anita Roddick was admitted to St Richard's Hospital in Chichester, close to her home, yesterday evening when she collapsed after complaining of a sudden headache. Mrs Roddick was admitted to the hospital's intensive care unit and her husband Gordon and two daughters, Sam and Justine, were with her when she died.\"\n",
      "\n",
      "Tributes poured in for Anita following the sad news, with many remembering her as a powerful force for change in the retail sector, prioritising green issues on the high street long before such issues were mainstream. In a statement given at the time, executive director of Greenpeace John Sauven said: \"She was an amazing inspiration to those around her, not just in environmental and human rights issues, which were two of her passions. \n",
      "\n",
      "\"She was ahead of her time when it came to issues of how business could be done in different ways, not just profit-motivated but taking into account environmental issues. When you look at it today, and how every company claims to be green, she was living this decades ago. She was a true pioneer.\"\n",
      "\n",
      "Celeb obsessed? Get a daily dose of showbiz gossip direct to your inbox\n",
      "\n",
      "\n"
     ]
    }
   ],
   "source": [
    "import requests\n",
    "from bs4 import BeautifulSoup\n",
    "\n",
    "url = 'https://www.mirror.co.uk/3am/celebrity-news/body-shop-founder-anita-roddicks-32121520'\n",
    "response = requests.get(url)\n",
    "\n",
    "if response.status_code == 200:\n",
    "    soup = BeautifulSoup(response.content, 'html.parser')\n",
    "    \n",
    "    heading = soup.find('h1')\n",
    "    content = soup.find_all('p')\n",
    "    paragraphs = \"\"\n",
    "    print(heading.text)\n",
    "    for paragraph in content:\n",
    "        paragraphs += paragraph.text\n",
    "        paragraphs += \"\\n\\n\"\n",
    "\n",
    "    print(paragraphs)\n",
    "else:\n",
    "    print('Failed to retrieve the webpage. Status code:', response.status_code)\n"
   ]
  },
  {
   "cell_type": "code",
   "execution_count": 12,
   "metadata": {},
   "outputs": [
    {
     "name": "stdout",
     "output_type": "stream",
     "text": [
      "ChatCompletionMessage(content='Anita Roddick,The Body Shop,UK store closures,ethical cosmetics,entrepreneurship', role='assistant', function_call=None, tool_calls=None)\n",
      "ChatCompletionMessage(content='The Body Shop is closing half of its UK stores as part of a restructuring plan after facing financial difficulties, marking a significant moment for the company founded by the pioneering businesswoman and human rights campaigner, Dame Anita Roddick.', role='assistant', function_call=None, tool_calls=None)\n"
     ]
    }
   ],
   "source": [
    "from openai import OpenAI\n",
    "client = OpenAI()\n",
    "\n",
    "# Get Keywords\n",
    "completion = client.chat.completions.create(\n",
    "  model=\"gpt-4-turbo-preview\",\n",
    "  messages=[\n",
    "    {\"role\": \"system\", \"content\": \"You are a news article assistant, proficient in summarizing news articles and extracting keywords. Provide 5 keywords of all the plain text provided by user. Just provide the keywords, seperated by commas, without any additional words.\"},\n",
    "    {\"role\": \"user\", \"content\": paragraphs},\n",
    "  ]\n",
    ")\n",
    "keywords = completion.choices[0].message\n",
    "print(keywords)\n",
    "\n",
    "# Get one-line summary\n",
    "completion = client.chat.completions.create(\n",
    "  model=\"gpt-4-turbo-preview\",\n",
    "  messages=[\n",
    "    {\"role\": \"system\", \"content\": \"You are a news article assistant, proficient in summarizing news articles and extracting keywords. Provide a one-line summary of the news article provided by user. Produce plain text of the summary only.\"},\n",
    "    {\"role\": \"user\", \"content\": paragraphs},\n",
    "  ]\n",
    ")\n",
    "\n",
    "one_line_summary = completion.choices[0].message\n",
    "print(one_line_summary)\n"
   ]
  }
 ],
 "metadata": {
  "kernelspec": {
   "display_name": "Python 3",
   "language": "python",
   "name": "python3"
  },
  "language_info": {
   "codemirror_mode": {
    "name": "ipython",
    "version": 3
   },
   "file_extension": ".py",
   "mimetype": "text/x-python",
   "name": "python",
   "nbconvert_exporter": "python",
   "pygments_lexer": "ipython3",
   "version": "3.8.0"
  }
 },
 "nbformat": 4,
 "nbformat_minor": 2
}
